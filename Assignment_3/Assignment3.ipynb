{
 "cells": [
  {
   "cell_type": "code",
   "execution_count": 2,
   "metadata": {},
   "outputs": [],
   "source": [
    "import pandas as pd\n",
    "import numpy as np\n",
    "from itertools import combinations"
   ]
  },
  {
   "cell_type": "code",
   "execution_count": 3,
   "metadata": {},
   "outputs": [],
   "source": [
    "def load_movie_data(file_path):\n",
    "    return pd.read_csv(file_path)[\"movie\"].tolist()\n",
    "\n",
    "def generate_random_vector(dimensions):\n",
    "    return np.random.rand(dimensions)\n"
   ]
  },
  {
   "cell_type": "code",
   "execution_count": 4,
   "metadata": {},
   "outputs": [],
   "source": [
    "def calculate_angle_similarity(vector1, vector2):\n",
    "    dot_product = np.dot(vector1, vector2)\n",
    "    magnitude1 = np.linalg.norm(vector1)\n",
    "    magnitude2 = np.linalg.norm(vector2)\n",
    "    angle = np.arccos(dot_product / (magnitude1 * magnitude2))\n",
    "    return angle\n",
    "\n",
    "def find_top_similar_movies(movie_vectors, num_top_pairs):\n",
    "    similar_movies = []\n",
    "\n",
    "    movie_combinations = combinations(movie_vectors.keys(), 2)\n",
    "    for movie1, movie2 in movie_combinations:\n",
    "        angle = calculate_angle_similarity(movie_vectors[movie1], movie_vectors[movie2])\n",
    "        similar_movies.append((movie1, movie2, angle))\n",
    "\n",
    "    similar_movies.sort(key=lambda x: x[2])\n",
    "    return similar_movies[:num_top_pairs]"
   ]
  },
  {
   "cell_type": "code",
   "execution_count": 5,
   "metadata": {},
   "outputs": [
    {
     "name": "stdout",
     "output_type": "stream",
     "text": [
      "Top similar movie pairs:\n",
      "Movies 'The Dark Knight' and 'It happened one night' with angle similarity of 0.66 radians.\n",
      "Movies 'The Dark Knight' and 'Gone with the wind' with angle similarity of 0.67 radians.\n",
      "Movies 'It happened one night' and 'Before Sunrise' with angle similarity of 0.67 radians.\n"
     ]
    }
   ],
   "source": [
    "def main():\n",
    "    movie_data_file = \"moviereviews.csv\" \n",
    "    num_dimensions = 300\n",
    "    num_top_pairs = 3\n",
    "\n",
    "    movies = load_movie_data(movie_data_file)\n",
    "    \n",
    "    movie_vectors = {movie: generate_random_vector(num_dimensions) for movie in movies}\n",
    "    \n",
    "    top_similar_movies = find_top_similar_movies(movie_vectors, num_top_pairs)\n",
    "\n",
    "    print(\"Top similar movie pairs:\")\n",
    "    for movie1, movie2, angle in top_similar_movies:\n",
    "        print(f\"Movies '{movie1}' and '{movie2}' with angle similarity of {angle:.2f} radians.\")\n",
    "\n",
    "if __name__ == \"__main__\":\n",
    "    main()"
   ]
  }
 ],
 "metadata": {
  "kernelspec": {
   "display_name": "pycaretenv",
   "language": "python",
   "name": "python3"
  },
  "language_info": {
   "codemirror_mode": {
    "name": "ipython",
    "version": 3
   },
   "file_extension": ".py",
   "mimetype": "text/x-python",
   "name": "python",
   "nbconvert_exporter": "python",
   "pygments_lexer": "ipython3",
   "version": "3.9.17"
  },
  "orig_nbformat": 4
 },
 "nbformat": 4,
 "nbformat_minor": 2
}
